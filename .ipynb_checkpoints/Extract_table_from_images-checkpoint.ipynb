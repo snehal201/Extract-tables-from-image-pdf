{
 "cells": [
  {
   "cell_type": "markdown",
   "metadata": {
    "id": "slFkx91VZjhq"
   },
   "source": [
    "# Extract all the tables from image"
   ]
  },
  {
   "cell_type": "code",
   "execution_count": null,
   "metadata": {
    "id": "RNrYZGr_PwoV"
   },
   "outputs": [],
   "source": [
    "from google.colab import files ##upload file \n",
    "uploaded = files.upload() ## my compter to google colab"
   ]
  },
  {
   "cell_type": "markdown",
   "metadata": {
    "id": "xFp6p0QRZ_rU"
   },
   "source": [
    "install necessary library"
   ]
  },
  {
   "cell_type": "code",
   "execution_count": null,
   "metadata": {
    "id": "bKDyiOx7Ohcy"
   },
   "outputs": [],
   "source": [
    "!apt-get install poppler-utils"
   ]
  },
  {
   "cell_type": "code",
   "execution_count": null,
   "metadata": {
    "id": "R9H0qNa6OhKg"
   },
   "outputs": [],
   "source": [
    "!pip install pdf2image\n",
    "!pip install easyocr"
   ]
  },
  {
   "cell_type": "code",
   "execution_count": null,
   "metadata": {
    "id": "wMs9m7QVBdZK"
   },
   "outputs": [],
   "source": [
    "! apt install tesseract-ocr\n",
    "! apt install libtesseract-dev"
   ]
  },
  {
   "cell_type": "code",
   "execution_count": null,
   "metadata": {
    "id": "SHr8kQahBdV9"
   },
   "outputs": [],
   "source": [
    "! pip install Pillow\n",
    "! pip install pytesseract"
   ]
  },
  {
   "cell_type": "markdown",
   "metadata": {
    "id": "Zm-RFJpMaf6k"
   },
   "source": [
    "##import necessary library\n"
   ]
  },
  {
   "cell_type": "code",
   "execution_count": null,
   "metadata": {
    "id": "gumik2aDOhHG"
   },
   "outputs": [],
   "source": [
    "from pdf2image import convert_from_path\n",
    "import pytesseract as tess\n",
    "import easyocr\n",
    "import numpy as np\n",
    "import PIL\n",
    "from PIL import ImageDraw ,Image\n",
    "import spacy"
   ]
  },
  {
   "cell_type": "code",
   "execution_count": null,
   "metadata": {
    "id": "13at52h-UlwH"
   },
   "outputs": [],
   "source": [
    "base_path=\"/content/sample_data/images\""
   ]
  },
  {
   "cell_type": "markdown",
   "metadata": {
    "id": "MlUFGcZ4a6R-"
   },
   "source": [
    "# convert pdf into images"
   ]
  },
  {
   "cell_type": "code",
   "execution_count": null,
   "metadata": {
    "id": "kVEHTBa7uLGM"
   },
   "outputs": [],
   "source": [
    "import os\n",
    "pdfs = r\"/content/Saleem HDFC 9660-1623914564274 (1) (1).pdf\"\n",
    "pages = convert_from_path(pdfs,grayscale=True,dpi=380,jpegopt={\n",
    "    \"quality\": 100,\n",
    "    \"progressive\": True,\n",
    "    \"optimize\": True\n",
    "})\n",
    "\n",
    "i = 1\n",
    "for page in pages:\n",
    "    image_name = \"Page_\" + str(i) + \".jpg\"  \n",
    "    page.save(os.path.join(base_path,image_name), \"JPEG\")\n",
    "    i = i+1"
   ]
  },
  {
   "cell_type": "code",
   "execution_count": null,
   "metadata": {
    "id": "52flM495akzZ"
   },
   "outputs": [],
   "source": [
    "import cv2 \n",
    "import pytesseract"
   ]
  },
  {
   "cell_type": "code",
   "execution_count": null,
   "metadata": {
    "id": "wDr59OvZQZpq"
   },
   "outputs": [],
   "source": [
    "from IPython.display import display,Image  ###display image\n",
    "display(pages[0])"
   ]
  },
  {
   "cell_type": "markdown",
   "metadata": {
    "id": "UgZ_1YIMkStI"
   },
   "source": []
  },
  {
   "cell_type": "markdown",
   "metadata": {
    "id": "kQaAbHctkvPI"
   },
   "source": [
    "# Table Extraction using easyocr"
   ]
  },
  {
   "cell_type": "code",
   "execution_count": null,
   "metadata": {
    "id": "GAp8j_TGOhE_"
   },
   "outputs": [],
   "source": [
    "reader=easyocr.Reader(['en'])"
   ]
  },
  {
   "cell_type": "code",
   "execution_count": null,
   "metadata": {
    "id": "RnU0iy1JQtw4"
   },
   "outputs": [],
   "source": [
    "#create bounding box \n",
    "bounds=reader.readtext(np.array(pages[0]),detail=1,decoder='greedy',beamWidth=10)\n",
    "bounds"
   ]
  },
  {
   "cell_type": "markdown",
   "metadata": {
    "id": "2yHjewKIbMVd"
   },
   "source": [
    "#Create a function to showing bounding box in image"
   ]
  },
  {
   "cell_type": "code",
   "execution_count": null,
   "metadata": {
    "id": "9Uw-p2klRxlL"
   },
   "outputs": [],
   "source": [
    "def drow_boxes(image,bounds,color='grey',width=2):  \n",
    "    draw=ImageDraw.Draw(image)\n",
    "    for bound in bounds:\n",
    "      p0 ,p1 ,p2, p3 =bound[0]\n",
    "      draw.line([*p0, *p1, *p2, *p3, *p0], fill=color ,width=width)\n",
    "    return image \n",
    "drow_boxes(pages[0],bounds)   "
   ]
  },
  {
   "cell_type": "markdown",
   "metadata": {
    "id": "g7p-XbvWbw7s"
   },
   "source": [
    "##Run loop for show text"
   ]
  },
  {
   "cell_type": "code",
   "execution_count": null,
   "metadata": {
    "id": "9Jya3VHlU7KR"
   },
   "outputs": [],
   "source": [
    "#show text \n",
    "text='' \n",
    "for i in range(len(bounds)):\n",
    "  text=text + bounds[i][1] + '\\n'\n",
    "print(text)"
   ]
  },
  {
   "cell_type": "code",
   "execution_count": null,
   "metadata": {
    "id": "86kFwqJ-wqeG"
   },
   "outputs": [],
   "source": [
    "text_data=text.split('\\n')      #split text and Genrate a list\n",
    "first_data=text_data[54:96]     \n",
    "sec_data=text_data[263:365]\n",
    "df_table=first_data + sec_data  #select a table formate data from the list"
   ]
  },
  {
   "cell_type": "code",
   "execution_count": null,
   "metadata": {
    "id": "kBkYvoW38O2-"
   },
   "outputs": [],
   "source": [
    "def split_X(a, n):              #Create a split_X function to split list , ang create group of variables\n",
    "    k, m = divmod(len(a), n)\n",
    "    return (a[i*k+min(i, m):(i+1)*k+min(i+1, m)] for i in range(n))"
   ]
  },
  {
   "cell_type": "code",
   "execution_count": null,
   "metadata": {
    "id": "fhNb3n2g8Un1"
   },
   "outputs": [],
   "source": [
    "data=list(split_X(df_table,18)) #Run split_X function and create group of 8 variables\n",
    "data[0]"
   ]
  },
  {
   "cell_type": "code",
   "execution_count": null,
   "metadata": {
    "id": "Sgpa5GFC5cMx"
   },
   "outputs": [],
   "source": [
    "# import pandas as pd\n",
    "import pandas as pd          #Create Dataframe from the group of variables\n",
    "\n",
    "df = pd.DataFrame(data,columns =['1', '2','3','4','5','6','7','8'])\n",
    "df"
   ]
  },
  {
   "cell_type": "code",
   "execution_count": null,
   "metadata": {
    "id": "bvqSiu8idrYX"
   },
   "outputs": [],
   "source": []
  },
  {
   "cell_type": "markdown",
   "metadata": {
    "id": "if9TFz3OdqDL"
   },
   "source": [
    "# Table Extraction using pytesseract"
   ]
  },
  {
   "cell_type": "markdown",
   "metadata": {
    "id": "M9B3Q98cdhMP"
   },
   "source": [
    "##Create a loop for read text from all images\n",
    "### Runing loop in all images and get text from all images"
   ]
  },
  {
   "cell_type": "code",
   "execution_count": null,
   "metadata": {
    "id": "Kxs9bhLcapTL"
   },
   "outputs": [],
   "source": [
    "import glob\n",
    "path=\"/content/sample_data/images/*.*\"\n",
    "x=[]\n",
    "for file in glob.glob(path):\n",
    "      text=pytesseract.image_to_string(file, config=r'--oem 3 --psm 6',lang='eng')\n",
    "      x.append(text)"
   ]
  },
  {
   "cell_type": "code",
   "execution_count": null,
   "metadata": {
    "id": "viogNnAgVP9H"
   },
   "outputs": [],
   "source": [
    "def listToString(s):    ##function for Converting list to striung\n",
    "    str1 = \" \" \n",
    "    return (str1.join(s))"
   ]
  },
  {
   "cell_type": "code",
   "execution_count": null,
   "metadata": {
    "id": "3lmMWfGnVyg0"
   },
   "outputs": [],
   "source": [
    "df=listToString(x)"
   ]
  },
  {
   "cell_type": "code",
   "execution_count": null,
   "metadata": {
    "id": "F3fMzYkO7mX5"
   },
   "outputs": [],
   "source": [
    "##for remove punctuation\n",
    "test_str = df\n",
    "punc = '''!()-[]{};:'\"\\,<>./?@#$%^&*_~'''\n",
    "for ele in df:\n",
    "\tif ele in punc:\n",
    "\t\ttest_str = test_str.replace(ele, \"\")"
   ]
  },
  {
   "cell_type": "code",
   "execution_count": null,
   "metadata": {
    "id": "vHIqaLqZCjBR"
   },
   "outputs": [],
   "source": [
    "import re\n",
    "all_img_str =test_str\n",
    "punc = r'[^\\w\\s]|[a-zA-z]+'\n",
    "for ele in test_str:\n",
    "\tif ele in punc:\n",
    "\t\tall_img_str =all_img_str.replace(ele, \"\")\n",
    "print(all_img_str)"
   ]
  },
  {
   "cell_type": "code",
   "execution_count": null,
   "metadata": {
    "id": "gfkD3lJvR5IK"
   },
   "outputs": [],
   "source": [
    "x=all_img_str.splitlines()\n",
    "x=x[4:]\n",
    "x1=listToString(x)\n",
    "x2=x1.split()\n",
    "x3=x2[3:]\n",
    "x4=listToString(x3)"
   ]
  },
  {
   "cell_type": "code",
   "execution_count": null,
   "metadata": {
    "id": "YUgSRTKZUT_P"
   },
   "outputs": [],
   "source": [
    "## for removing punctuation in x4\n",
    "x4_text = x4\n",
    "punc = '''!¥()-[]{};:'\"\\,<>./?@#$%^&*_~'''\n",
    "for ele in x4:\n",
    "\tif ele in punc:\n",
    "\t\tx4_text= x4_text.replace(ele, \"\")\n",
    "print(x4_text)"
   ]
  },
  {
   "cell_type": "code",
   "execution_count": null,
   "metadata": {
    "id": "eHKbNzDgP5BT"
   },
   "outputs": [],
   "source": [
    "x5=x4.split()                       ##Again split_X function for create group of variable\n",
    "final_list=list(split_X(x5,2167))\n",
    "final_list[0]"
   ]
  },
  {
   "cell_type": "code",
   "execution_count": null,
   "metadata": {
    "id": "0_pluz7QTjG9"
   },
   "outputs": [],
   "source": [
    "#create a Dataframe from list\n",
    "table_data= pd.DataFrame(final_list,columns =['1', '2','3','4','5','6','7','8'])\n",
    "table_data"
   ]
  }
 ],
 "metadata": {
  "accelerator": "GPU",
  "colab": {
   "name": "Extract_table_from_pdf.ipynb",
   "private_outputs": true,
   "provenance": []
  },
  "kernelspec": {
   "display_name": "Python 3",
   "language": "python",
   "name": "python3"
  },
  "language_info": {
   "codemirror_mode": {
    "name": "ipython",
    "version": 3
   },
   "file_extension": ".py",
   "mimetype": "text/x-python",
   "name": "python",
   "nbconvert_exporter": "python",
   "pygments_lexer": "ipython3",
   "version": "3.8.5"
  }
 },
 "nbformat": 4,
 "nbformat_minor": 1
}
